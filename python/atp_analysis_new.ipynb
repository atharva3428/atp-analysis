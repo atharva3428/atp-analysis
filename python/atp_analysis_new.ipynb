{
 "cells": [
  {
   "cell_type": "code",
   "execution_count": 1,
   "id": "0b4aeab6-14a0-42c2-bc1f-f1a4cca9e86e",
   "metadata": {},
   "outputs": [],
   "source": [
    "import json\n",
    "import pandas as pd\n",
    "from snowflake.snowpark import Session\n",
    "from snowflake.snowpark.functions import col, lag, stddev, avg, count\n",
    "from snowflake.snowpark.window import Window\n"
   ]
  },
  {
   "cell_type": "code",
   "execution_count": 2,
   "id": "5d64137e-5f4f-446b-bd08-88e6910154fd",
   "metadata": {},
   "outputs": [],
   "source": [
    "with open('../config.json', 'r') as f:\n",
    "    config = json.load(f)"
   ]
  },
  {
   "cell_type": "code",
   "execution_count": 3,
   "id": "c9748ab2-2935-4c0d-bf71-3d9b18e8826a",
   "metadata": {},
   "outputs": [],
   "source": [
    "# Create Snowpark session\n",
    "session = Session.builder.configs({\n",
    "    \"account\": config[\"account\"],\n",
    "    \"user\": config[\"user\"],\n",
    "    \"password\": config[\"password\"],\n",
    "    \"database\": config[\"database\"],\n",
    "    \"schema\": config[\"schema\"]\n",
    "}).create()"
   ]
  },
  {
   "cell_type": "code",
   "execution_count": null,
   "id": "22aefffb-a35b-40e3-aaa6-7dc291e381f0",
   "metadata": {},
   "outputs": [],
   "source": [
    "df = session.table(\"player_yearly_performance\")\n",
    "window = Window.partition_by(col(\"player_name\")).order_by(col(\"year\"))\n",
    "df_trends = df.with_column(\"prev_win_rate\", lag(col(\"wins\") / col(\"matches\"), 1).over(window))\n",
    "df_trends = df_trends.with_column(\"win_rate_change\", (col(\"wins\") / col(\"matches\") - col(\"prev_win_rate\")))\n",
    "\n",
    "df_trends.write.mode(\"overwrite\").save_as_table(\"player_performance_trends\")"
   ]
  },
  {
   "cell_type": "code",
   "execution_count": null,
   "id": "544ce272-3191-499d-b52e-f0a952cdb4d1",
   "metadata": {},
   "outputs": [],
   "source": [
    "# Serve Effectiveness by Surface\n",
    "df_matches = session.table(\"player_matches_view\").join(\n",
    "    session.table(\"matches\").select(col(\"TOURNEY_DATE\"), col(\"SURFACE\"), col(\"WINNER_ID\"), col(\"LOSER_ID\")),\n",
    "    (col(\"PLAYER_ID\") == col(\"WINNER_ID\")) | \n",
    "    (col(\"PLAYER_ID\") == col(\"LOSER_ID\"))\n",
    ")\n",
    "df_serve = df_matches.group_by([\"PLAYER_NAME\", \"SURFACE\"]).agg(\n",
    "    avg(\"FIRST_SERVE_PCT\").alias(\"avg_first_serve_pct\"),\n",
    "    stddev(\"FIRST_SERVE_PCT\").alias(\"stddev_first_serve_pct\")\n",
    ").filter(col(\"avg_first_serve_pct\").is_not_null())\n",
    "df_serve.write.mode(\"overwrite\").save_as_table(\"serve_effectiveness_by_surface\")"
   ]
  },
  {
   "cell_type": "code",
   "execution_count": null,
   "id": "87aa4f84-75f3-47d4-bd78-179f196f3a0e",
   "metadata": {},
   "outputs": [],
   "source": [
    "# Cell 5: Player Consistency Across Years\n",
    "df = session.table(\"player_yearly_performance\")\n",
    "# Calculate win rate per year\n",
    "df_with_win_rate = df.with_column(\"win_rate\", col(\"wins\") / col(\"matches\"))\n",
    "# Group by player to compute standard deviation of win rate\n",
    "df_consistency = df_with_win_rate.group_by([\"player_name\"]).agg(\n",
    "    avg(\"win_rate\").alias(\"avg_win_rate\"),\n",
    "    stddev(\"win_rate\").alias(\"win_rate_stddev\"),\n",
    "    count(\"*\").alias(\"years_active\")\n",
    ").filter(col(\"years_active\") > 5)  # Filter players with significant activity\n",
    "df_consistency.write.mode(\"overwrite\").save_as_table(\"player_consistency\")"
   ]
  },
  {
   "cell_type": "code",
   "execution_count": null,
   "id": "b465776c-f66a-4559-aaf2-37d21d8ca5ed",
   "metadata": {},
   "outputs": [],
   "source": [
    "session.close()"
   ]
  }
 ],
 "metadata": {
  "kernelspec": {
   "display_name": "Python 3 (ipykernel)",
   "language": "python",
   "name": "python3"
  },
  "language_info": {
   "codemirror_mode": {
    "name": "ipython",
    "version": 3
   },
   "file_extension": ".py",
   "mimetype": "text/x-python",
   "name": "python",
   "nbconvert_exporter": "python",
   "pygments_lexer": "ipython3",
   "version": "3.12.3"
  }
 },
 "nbformat": 4,
 "nbformat_minor": 5
}
